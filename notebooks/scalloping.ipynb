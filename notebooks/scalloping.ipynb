{
 "cells": [
  {
   "cell_type": "code",
   "execution_count": 3,
   "metadata": {},
   "outputs": [],
   "source": [
    "import numpy as np\n",
    "import matplotlib.pyplot as plt\n",
    "from scipy.fft import rfft"
   ]
  },
  {
   "cell_type": "code",
   "execution_count": 12,
   "metadata": {},
   "outputs": [],
   "source": [
    "df = 9.70127682e-04\n",
    "f_nyquist = 800.1953125\n",
    "\n",
    "def sinc(x):\n",
    "    \"\"\"Sinc function.\"\"\"\n",
    "    return np.sin(x) / x\n",
    "\n",
    "def gaussian(mu, sig):\n",
    "    x = np.linspace(0, 1, 1024)\n",
    "    return np.exp(-0.5 * ((x - mu) / sig) ** 2) / (sig * np.sqrt(2 * np.pi))\n",
    "\n",
    "prof = gaussian(0.5, 0.02)\n",
    "prof_fft = rfft(prof)[1:]\n",
    "powers = np.abs(prof_fft) ** 2.0\n",
    "max_power = powers.sum()\n",
    "prof_fft /= np.sqrt(max_power)"
   ]
  },
  {
   "cell_type": "code",
   "execution_count": 73,
   "metadata": {},
   "outputs": [],
   "source": [
    "def harmonics(prof_fft, f_true, n_harm, N=4):\n",
    "        \"\"\"\n",
    "        This function calculates the array of frequency-domain harmonics for a given\n",
    "        pulse profile.\n",
    "\n",
    "        Inputs:\n",
    "        _______\n",
    "                prof_fft (ndarray): FFT of pulse profile, not including zeroth harmonic\n",
    "                df (float)        : frequency bin width in target spectrum\n",
    "                n_harm (int)      : the number of harmonics before the Nyquist frequency\n",
    "                N (int)           : number of bins over which to sinc-interpolate the harmonic\n",
    "        Returns:\n",
    "        ________\n",
    "                bins (ndarray) : frequency bins of the injection\n",
    "                harmonics (ndarray) : Fourier-transformed harmonics of the profile convolved with\n",
    "                                        [cycles] number of Delta functions\n",
    "        \"\"\"\n",
    "        # Because of the rapid drop-off of the sinc function, adding further interpolation bins gives a negligible increase\n",
    "        # in power fidelity. Hence the default is 4.\n",
    "        harmonics = np.zeros(N * n_harm)\n",
    "        bins = np.zeros(N * n_harm).astype(int)\n",
    "\n",
    "        # now evaluate sinc-modified power at each of the first 10 harmonics\n",
    "        for i in range(n_harm):\n",
    "            f_harm = (i + 1) * f_true\n",
    "            bin_true = f_harm / df\n",
    "            bin_below = np.floor(bin_true)\n",
    "            bin_above = np.ceil(bin_true)\n",
    "\n",
    "            # use 2 bins on either side\n",
    "            current_bins = np.array(\n",
    "                [bin_below - 1, bin_below, bin_above, bin_above + 1]\n",
    "            )\n",
    "            bins[i * N : (i + 1) * N] = current_bins\n",
    "            \n",
    "            amplitude = prof_fft[i] * sinc(np.pi * (bin_true - current_bins))\n",
    "\n",
    "            harmonics[i * N : (i + 1) * N] = np.abs(amplitude) ** 2\n",
    "\n",
    "        return bins, harmonics"
   ]
  },
  {
   "cell_type": "code",
   "execution_count": 74,
   "metadata": {},
   "outputs": [],
   "source": [
    "n = 1000\n",
    "scalloped_power = np.zeros(n)\n",
    "f_true = np.linspace(50, 50.002, n)\n",
    "\n",
    "for i in range(len(f_true)):\n",
    "\n",
    "    n_harm = int(np.floor(f_nyquist / f_true[i]))\n",
    "\n",
    "    if n_harm > 32:\n",
    "        n_harm = 32\n",
    "\n",
    "    bins, harms = harmonics(prof_fft, f_true[i], n_harm)\n",
    "    scalloped_power[i] = harms.sum()"
   ]
  },
  {
   "cell_type": "code",
   "execution_count": 76,
   "metadata": {},
   "outputs": [
    {
     "data": {
      "text/plain": [
       "Text(0.5, 1.0, 'Effect of Scalloping on Pulses with 16 Harmonics')"
      ]
     },
     "execution_count": 76,
     "metadata": {},
     "output_type": "execute_result"
    },
    {
     "data": {
      "image/png": "[encoded data removed]",
      "text/plain": [
       "<Figure size 432x288 with 1 Axes>"
      ]
     },
     "metadata": {
      "needs_background": "light"
     },
     "output_type": "display_data"
    }
   ],
   "source": [
    "plt.plot(f_true, scalloped_power)\n",
    "plt.xlabel('f (Hz)')\n",
    "plt.ylabel('Scalloped Power')\n",
    "plt.title('Effect of Scalloping on Pulses with 16 Harmonics')"
   ]
  },
  {
   "cell_type": "code",
   "execution_count": null,
   "metadata": {},
   "outputs": [],
   "source": []
  }
 ],
 "metadata": {
  "kernelspec": {
   "display_name": "Python 3",
   "language": "python",
   "name": "python3"
  },
  "language_info": {
   "codemirror_mode": {
    "name": "ipython",
    "version": 3
   },
   "file_extension": ".py",
   "mimetype": "text/x-python",
   "name": "python",
   "nbconvert_exporter": "python",
   "pygments_lexer": "ipython3",
   "version": "3.8.10"
  }
 },
 "nbformat": 4,
 "nbformat_minor": 2
}
